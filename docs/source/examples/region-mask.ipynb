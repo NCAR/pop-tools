{
 "cells": [
  {
   "cell_type": "markdown",
   "metadata": {},
   "source": [
    "# Region masks\n",
    "\n",
    "POP includes a default region mask as a component of the grid information. This is often not super \n",
    "relevant for analyses. `pop_tools` provides several alternative region masks; these are demostrated here."
   ]
  },
  {
   "cell_type": "code",
   "execution_count": null,
   "metadata": {},
   "outputs": [],
   "source": [
    "%matplotlib inline\n",
    "import matplotlib.colors as colors\n",
    "import matplotlib.pyplot as plt\n",
    "import numpy as np\n",
    "import xarray as xr\n",
    "\n",
    "import pop_tools\n",
    "\n",
    "xr.set_options(display_style=\"html\")  # fancy HTML repr"
   ]
  },
  {
   "cell_type": "markdown",
   "metadata": {},
   "source": [
    "## Load POP grid as `xarray.Dataset`"
   ]
  },
  {
   "cell_type": "code",
   "execution_count": null,
   "metadata": {},
   "outputs": [],
   "source": [
    "grid_name = 'POP_gx1v7'\n",
    "\n",
    "ds = pop_tools.get_grid(grid_name)\n",
    "ds"
   ]
  },
  {
   "cell_type": "markdown",
   "metadata": {},
   "source": [
    "## Plot default `REGION_MASK`\n",
    "The default `REGION_MASK` is a 2-D array with unique integer values for each region. Negative integers denote \"marginal seas,\" which are not directly connected to the ocean."
   ]
  },
  {
   "cell_type": "code",
   "execution_count": null,
   "metadata": {},
   "outputs": [],
   "source": [
    "regions = np.array(np.unique(ds.REGION_MASK))\n",
    "regions"
   ]
  },
  {
   "cell_type": "code",
   "execution_count": null,
   "metadata": {},
   "outputs": [],
   "source": [
    "ds.REGION_MASK.plot.contourf(levels=regions, cmap='tab20');"
   ]
  },
  {
   "cell_type": "markdown",
   "metadata": {},
   "source": [
    "## More useful region masks\n",
    "\n",
    "It's often more useful to define a region mask as a 3-D array of zeros and ones, where the first dimension is `region`; this permits overlapping regions and is convenient for computation because the mask can be applied by multiplication, which yields a `region` dimension via broadcasting.\n",
    "\n",
    "`pop_tools` supports converting the default `REGION_MASK` to this type of mask thru the `region_mask_3d` function."
   ]
  },
  {
   "cell_type": "code",
   "execution_count": null,
   "metadata": {},
   "outputs": [],
   "source": [
    "mask3d = pop_tools.region_mask_3d(grid_name, mask_name='default')\n",
    "mask3d"
   ]
  },
  {
   "cell_type": "markdown",
   "metadata": {},
   "source": [
    "This mask includes a coordinate variable with the region names."
   ]
  },
  {
   "cell_type": "code",
   "execution_count": null,
   "metadata": {},
   "outputs": [],
   "source": [
    "mask3d.region"
   ]
  },
  {
   "cell_type": "markdown",
   "metadata": {},
   "source": [
    "A particular region can be selected by name."
   ]
  },
  {
   "cell_type": "code",
   "execution_count": null,
   "metadata": {},
   "outputs": [],
   "source": [
    "mask3d.sel(region='Southern Ocean').plot();"
   ]
  },
  {
   "cell_type": "markdown",
   "metadata": {},
   "source": [
    "To visualize all the regions, we can define a help plotting function,"
   ]
  },
  {
   "cell_type": "code",
   "execution_count": null,
   "metadata": {},
   "outputs": [],
   "source": [
    "def visualize_mask(mask3d):\n",
    "    nregion = len(mask3d.region)\n",
    "\n",
    "    # mask out land\n",
    "    mask3d = mask3d.where(ds.KMT > 0)\n",
    "\n",
    "    # visualize the regions\n",
    "    ncol = int(np.sqrt(nregion))\n",
    "    nrow = int(nregion / ncol) + min(1, nregion % ncol)\n",
    "\n",
    "    fig, ax = plt.subplots(nrow, ncol, figsize=(4 * ncol, 3 * nrow), constrained_layout=True)\n",
    "\n",
    "    for i, region in enumerate(mask3d.region.values):\n",
    "        plt.axes(ax.ravel()[i])\n",
    "        mask3d.sel(region=region).plot()\n",
    "\n",
    "    # delete the unused axes\n",
    "    for i in range(nregion, ncol * nrow):\n",
    "        fig.delaxes(ax.ravel()[i])\n",
    "\n",
    "    fig.suptitle(f'Mask name = {mask3d.mask_name}', fontsize=16)"
   ]
  },
  {
   "cell_type": "markdown",
   "metadata": {},
   "source": [
    "and apply it to the default mask created above."
   ]
  },
  {
   "cell_type": "code",
   "execution_count": null,
   "metadata": {},
   "outputs": [],
   "source": [
    "visualize_mask(mask3d)"
   ]
  },
  {
   "cell_type": "markdown",
   "metadata": {},
   "source": [
    "## Alternative region masks\n",
    "\n",
    "Other useful region masks are pre-defined in the package. `list_region_masks` returns a list of pre-defined masks."
   ]
  },
  {
   "cell_type": "code",
   "execution_count": null,
   "metadata": {},
   "outputs": [],
   "source": [
    "region_masks = pop_tools.list_region_masks(grid_name)\n",
    "region_masks"
   ]
  },
  {
   "cell_type": "markdown",
   "metadata": {},
   "source": [
    "We can visualize all of these using the helper function above."
   ]
  },
  {
   "cell_type": "code",
   "execution_count": null,
   "metadata": {},
   "outputs": [],
   "source": [
    "for region_mask in region_masks:\n",
    "    mask3d = pop_tools.region_mask_3d(grid_name, mask_name=region_mask)\n",
    "    visualize_mask(mask3d)"
   ]
  },
  {
   "cell_type": "markdown",
   "metadata": {},
   "source": [
    "To illustrated how regions cover the global domain, including with overlap, we can sum over the `region` dimension. "
   ]
  },
  {
   "cell_type": "code",
   "execution_count": null,
   "metadata": {},
   "outputs": [],
   "source": [
    "mask3d = pop_tools.region_mask_3d(grid_name, mask_name='lat-range-basin')\n",
    "mask3d.sum('region').plot();"
   ]
  },
  {
   "cell_type": "markdown",
   "metadata": {},
   "source": [
    "## User defined region masks\n",
    "\n",
    "Finally, it is also possible to make a region mask on the fly by building a dictionary containing the defining logic. `region_mask_3d` accepts a `region_defs` argument. This is a dictionary of the following form.\n",
    "\n",
    "```python\n",
    "region_defs = {region1_name: list_of_criteria_dicts_1, \n",
    "               region2_name: list_of_criteria_dicts_2,...}\n",
    "```\n",
    "\n",
    "The `list_of_criteria_dicts` are lists of dictionaries; each must include the keys 'match' or 'bounds'. For instance:\n",
    "\n",
    "```python\n",
    "list_of_criteria_dicts_1 = [{'match': {'REGION_MASK': [1, 2, 3, 6]}, \n",
    "                             'bounds': {'TLAT': [-90., -30.]}}]\n",
    "```\n",
    "will return a mask where the default `REGION_MASK` matches the specified values and `TLAT` falls between the specified bounds. Multiple entries in the `list_of_criteria_dicts` are applied with an \"or\" condition.\n",
    "\n",
    "Here's an example region mask generated for the North Atlantic Subpolar and Subtropical Gyres."
   ]
  },
  {
   "cell_type": "code",
   "execution_count": null,
   "metadata": {},
   "outputs": [],
   "source": [
    "region_defs = {\n",
    "    'NAtl-STG': [\n",
    "        {'match': {'REGION_MASK': [6]}, 'bounds': {'TLAT': [32.0, 42.0], 'TLONG': [310.0, 350.0]}}\n",
    "    ],\n",
    "    'NAtl-SPG': [\n",
    "        {'match': {'REGION_MASK': [6]}, 'bounds': {'TLAT': [50.0, 60.0], 'TLONG': [310.0, 350.0]}}\n",
    "    ],\n",
    "}\n",
    "\n",
    "mask3d = pop_tools.region_mask_3d(grid_name, region_defs=region_defs, mask_name='N. Atlantic Gyres')\n",
    "visualize_mask(mask3d)"
   ]
  },
  {
   "cell_type": "code",
   "execution_count": null,
   "metadata": {},
   "outputs": [],
   "source": [
    "%load_ext watermark\n",
    "%watermark -d -iv -m -g -h"
   ]
  }
 ],
 "metadata": {
  "kernelspec": {
   "display_name": "Python 3",
   "language": "python",
   "name": "python3"
  },
  "language_info": {
   "codemirror_mode": {
    "name": "ipython",
    "version": 3
   },
   "file_extension": ".py",
   "mimetype": "text/x-python",
   "name": "python",
   "nbconvert_exporter": "python",
   "pygments_lexer": "ipython3",
   "version": "3.7.6"
  }
 },
 "nbformat": 4,
 "nbformat_minor": 4
}
