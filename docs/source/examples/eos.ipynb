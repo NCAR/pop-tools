{
 "cells": [
  {
   "cell_type": "markdown",
   "metadata": {},
   "source": [
    "# Equation of state\n",
    "\n",
    "`pop_tools.eos` implements the model's equation of state."
   ]
  },
  {
   "cell_type": "code",
   "execution_count": null,
   "metadata": {},
   "outputs": [],
   "source": [
    "%matplotlib inline\n",
    "import xarray as xr\n",
    "\n",
    "import pop_tools\n",
    "\n",
    "xr.set_options(display_style=\"html\")  # fancy HTML repr"
   ]
  },
  {
   "cell_type": "markdown",
   "metadata": {},
   "source": [
    "## Show check value\n",
    "\n",
    "McDougall, T.J., D.R. Jackett, D.G. Wright, and R. Feistel, 2003:\n",
    "     Accurate and Computationally Efficient Algorithms for Potential\n",
    "     Temperature and Density of Seawater. J. Atmos. Oceanic Technol., 20,\n",
    "     730–741, [doi:10.1175/1520-0426(2003)20<730:AACEAF>2.0.CO;2](https://doi.org/10.1175/1520-0426(2003)20<730:AACEAF>2.0.CO;2).\n",
    "\n",
    "test value:\n",
    "\n",
    "- $rho = 1033.213387 kg/m^3$;\n",
    "- $S = 35.0$ PSU, $theta = 20.0$ C, $pressure = 2000.0$ dbars"
   ]
  },
  {
   "cell_type": "code",
   "execution_count": null,
   "metadata": {},
   "outputs": [],
   "source": [
    "pop_tools.eos(salt=35.0, temp=20.0, pressure=2000.0)"
   ]
  },
  {
   "cell_type": "markdown",
   "metadata": {},
   "source": [
    "## Load POP dataset using `dask`"
   ]
  },
  {
   "cell_type": "code",
   "execution_count": null,
   "metadata": {},
   "outputs": [],
   "source": [
    "filepath = pop_tools.DATASETS.fetch(\"cesm_pop_monthly.T62_g17.nc\")\n",
    "ds = xr.open_dataset(filepath, decode_times=False, decode_coords=False, chunks={'z_t': 20})\n",
    "ds"
   ]
  },
  {
   "cell_type": "markdown",
   "metadata": {},
   "source": [
    "### Compute in situ density"
   ]
  },
  {
   "cell_type": "code",
   "execution_count": null,
   "metadata": {},
   "outputs": [],
   "source": [
    "%%time\n",
    "rho = pop_tools.eos(ds.SALT, ds.TEMP, depth=ds.z_t * 1e-2)"
   ]
  },
  {
   "cell_type": "markdown",
   "metadata": {},
   "source": [
    "### Visualize density field"
   ]
  },
  {
   "cell_type": "code",
   "execution_count": null,
   "metadata": {},
   "outputs": [],
   "source": [
    "h = rho.isel(time=0, z_t=0).plot()"
   ]
  },
  {
   "cell_type": "code",
   "execution_count": null,
   "metadata": {},
   "outputs": [],
   "source": [
    "h = rho.isel(time=0, nlon=200).plot(yincrease=False)"
   ]
  },
  {
   "cell_type": "code",
   "execution_count": null,
   "metadata": {},
   "outputs": [],
   "source": [
    "%load_ext watermark\n",
    "%watermark -d -iv -m -g -h"
   ]
  }
 ],
 "metadata": {
  "kernelspec": {
   "display_name": "Python 3",
   "language": "python",
   "name": "python3"
  },
  "language_info": {
   "codemirror_mode": {
    "name": "ipython",
    "version": 3
   },
   "file_extension": ".py",
   "mimetype": "text/x-python",
   "name": "python",
   "nbconvert_exporter": "python",
   "pygments_lexer": "ipython3",
   "version": "3.7.6"
  }
 },
 "nbformat": 4,
 "nbformat_minor": 4
}
