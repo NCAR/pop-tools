{
 "cells": [
  {
   "cell_type": "markdown",
   "metadata": {},
   "source": [
    "# Using xgcm with POP output\n",
    "\n",
    "In this notebook we will use xgcm capability to calculate divergence, vorticity and scalar gradients from high resolution (0.1$^{\\circ}$) POP output.  We will\n",
    "\n",
    "1) demonstrate the functions needed for these operations with basic `xarray`\n",
    "\n",
    "2) translate them to the corresponding ```xgcm``` version using {py:meth}`~xgcm.Grid.diff` and {py:meth}`~xgcm.Grid.interp`.\n",
    "\n",
    "3) use [`xgcm.get_metric`](https://xgcm.readthedocs.io/en/latest/grid_metrics.html) capabilities to simplify the code. \n",
    "\n",
    "The ``metrics`` functionality lets us write generalized ``div``, ``grad`` and ``curl`` functions that should be available in ``xgcm`` in the future (see [xgcm/xgcm #187](https://github.com/xgcm/xgcm/issues/187))"
   ]
  },
  {
   "cell_type": "code",
   "execution_count": null,
   "metadata": {},
   "outputs": [],
   "source": [
    "import numpy as np\n",
    "import xarray as xr\n",
    "import xgcm\n",
    "from matplotlib import pyplot as plt\n",
    "\n",
    "import pop_tools\n",
    "\n",
    "%matplotlib inline\n",
    "plt.rcParams[\"figure.figsize\"] = (10, 6)"
   ]
  },
  {
   "cell_type": "markdown",
   "metadata": {},
   "source": [
    "## Open example dataset and modify it to work with xgcm\n",
    "For the relabeling the dataset must contain ``DZU`` and ``DZT`` (they are also needed in calculations later on)"
   ]
  },
  {
   "cell_type": "code",
   "execution_count": null,
   "metadata": {},
   "outputs": [],
   "source": [
    "# open sample data\n",
    "filepath = pop_tools.DATASETS.fetch('Pac_POP0.1_JRA_IAF_1993-12-6-test.nc')\n",
    "ds = xr.open_dataset(filepath)\n",
    "\n",
    "# get DZU and DZT, needed for operations later on\n",
    "filepath_g = pop_tools.DATASETS.fetch('Pac_grid_pbc_1301x305x62.tx01_62l.2013-07-13.nc')\n",
    "ds_g = xr.open_dataset(filepath_g)"
   ]
  },
  {
   "cell_type": "code",
   "execution_count": null,
   "metadata": {},
   "outputs": [],
   "source": [
    "ds[\"DZT\"] = ds_g.DZT\n",
    "ds[\"DZU\"] = ds_g.DZU\n",
    "ds[\"cell_volume_t\"] = ds_g.DZT * ds_g.DXT * ds_g.DYT\n",
    "ds[\"cell_volume_u\"] = ds_g.DZU * ds_g.DXT * ds_g.DYT"
   ]
  },
  {
   "cell_type": "markdown",
   "metadata": {},
   "source": [
    "ds contains the usual dimensions ```nlat```, ```nlon```, etc:"
   ]
  },
  {
   "cell_type": "code",
   "execution_count": null,
   "metadata": {},
   "outputs": [],
   "source": [
    "ds"
   ]
  },
  {
   "cell_type": "markdown",
   "metadata": {},
   "source": [
    "We call {py:func}`~pop_tools.to_xgcm_grid_dataset` to make the POP dataset xgcm compatible. This means that the dimensions need to be renamed so that xgcm knows which variables are at T-points and which are at U-points."
   ]
  },
  {
   "cell_type": "code",
   "execution_count": null,
   "metadata": {},
   "outputs": [],
   "source": [
    "grid, ds_ren = pop_tools.to_xgcm_grid_dataset(ds, periodic=False)"
   ]
  },
  {
   "cell_type": "markdown",
   "metadata": {},
   "source": [
    "`ds_re`n contains all variables from `ds`, but ```nlat/nlon``` have been replaced by ```nlat_t/nlon_t``` and ```nlat_u/nlon_u``` depending on which points the variables are at:"
   ]
  },
  {
   "cell_type": "code",
   "execution_count": null,
   "metadata": {},
   "outputs": [],
   "source": [
    "ds_ren"
   ]
  },
  {
   "cell_type": "markdown",
   "metadata": {},
   "source": [
    "{py:func}`~pop_tools.to_xgcm_grid_dataset`  also created an ``xgcm.Grid`` object named [``grid``](https://xgcm.readthedocs.io/en/latest/grids.html#creating-grid-objects). This object will make it easy to do [grid-aware interpolation and differencing](https://xgcm.readthedocs.io/en/latest/grids.html#core-grid-operations-diff-interp-and-cumsum) later on.\n",
    "\n"
   ]
  },
  {
   "cell_type": "code",
   "execution_count": null,
   "metadata": {},
   "outputs": [],
   "source": [
    "grid"
   ]
  },
  {
   "cell_type": "markdown",
   "metadata": {},
   "source": [
    "## Calculations"
   ]
  },
  {
   "cell_type": "markdown",
   "metadata": {},
   "source": [
    "### 1) Divergence"
   ]
  },
  {
   "cell_type": "markdown",
   "metadata": {},
   "source": [
    "#### pure xarray version\n",
    "\n",
    "Note that the **pure xarray** functions use {py:meth}`~xarray.DataArray.roll`  which basically uses a periodic boundary condition at the domain edges"
   ]
  },
  {
   "cell_type": "code",
   "execution_count": null,
   "metadata": {},
   "outputs": [],
   "source": [
    "# using numpy/xarray mix\n",
    "def div_4pt_xr(U, V):\n",
    "    \"\"\"\n",
    "    POP stencil operator for divergence\n",
    "    using xarray\n",
    "    \"\"\"\n",
    "    U_at_lat_t = U + U.roll(nlat=1, roll_coords=False)  # avg U in y\n",
    "    dUdx = U_at_lat_t - U_at_lat_t.roll(nlon=1, roll_coords=False)  # dU/dx\n",
    "    V_at_lon_t = V + V.roll(nlon=1, roll_coords=False)  # avg V in x\n",
    "    dVdy = V_at_lon_t - V_at_lon_t.roll(nlat=1, roll_coords=False)  # dV/dy\n",
    "    return dUdx + dVdy\n",
    "\n",
    "\n",
    "def divh_xr(U, V, dsgrid):\n",
    "    \"\"\"\n",
    "    calulate divergence\n",
    "    \"\"\"\n",
    "    changed_U = 0.5 * U * dsgrid.DYU * dsgrid.DZU\n",
    "    changed_V = 0.5 * V * dsgrid.DXU * dsgrid.DZU\n",
    "    div = div_4pt_xr(changed_U, changed_V) / (dsgrid.TAREA * dsgrid.DZT)\n",
    "    return div"
   ]
  },
  {
   "cell_type": "code",
   "execution_count": null,
   "metadata": {},
   "outputs": [],
   "source": [
    "div_xr = divh_xr(ds.UVEL, ds.VVEL, ds)\n",
    "div_xr"
   ]
  },
  {
   "cell_type": "code",
   "execution_count": null,
   "metadata": {},
   "outputs": [],
   "source": [
    "div_xr.isel(z_t=5, time=0).plot(robust=True, figsize=(10, 3))\n",
    "plt.title(\"xr divergence @ {:d}m\".format(int(div_xr.z_t.isel(z_t=5).values / 100)));"
   ]
  },
  {
   "cell_type": "markdown",
   "metadata": {},
   "source": [
    "#### Minimal xgcm version\n",
    "\n",
    "Instead of using xarray's {py:meth}`~xarray.DataArray.roll`, we can use xgcm's {py:meth}`~xgcm.Grid.diff` and {py:meth}`~xgcm.Grid.interp`:"
   ]
  },
  {
   "cell_type": "code",
   "execution_count": null,
   "metadata": {},
   "outputs": [],
   "source": [
    "# using xgcm\n",
    "def div_4pt_xgcm(U, V):  # Basic stencil operator for B-grid divergence\n",
    "    \"\"\"\n",
    "    POP stencil operator for divergence\n",
    "    using xgcm\n",
    "    \"\"\"\n",
    "    U_at_lat_t = grid.interp(U, axis=\"Y\", boundary=\"extend\")  # array - array.roll becomes interp\n",
    "    # -> this incoorporates the * 0.5\n",
    "    dUdx = grid.diff(U_at_lat_t, axis=\"X\", boundary=\"extend\")  # - becomes diff\n",
    "    V_at_lon_t = grid.interp(V, axis=\"X\", boundary=\"extend\")\n",
    "    dVdy = grid.diff(V_at_lon_t, axis=\"Y\", boundary=\"extend\")\n",
    "    div_4pt = dUdx + dVdy\n",
    "    return div_4pt\n",
    "\n",
    "\n",
    "def divh_xgcm(U, V, ds_grid):  # Divergence of horizontal velocity. Result on T-grid\n",
    "    \"\"\"\n",
    "    calulate divergence with xgcm\n",
    "    \"\"\"\n",
    "    changed_U = U * ds_grid.DYU * ds_grid.DZU\n",
    "    changed_V = V * ds_grid.DXU * ds_grid.DZU\n",
    "    divh = div_4pt_xgcm(changed_U, changed_V) / (ds_grid.TAREA * ds_grid.DZT)\n",
    "    return divh"
   ]
  },
  {
   "cell_type": "code",
   "execution_count": null,
   "metadata": {},
   "outputs": [],
   "source": [
    "div_xgcm = divh_xgcm(ds_ren.UVEL, ds_ren.VVEL, ds_ren)\n",
    "div_xgcm"
   ]
  },
  {
   "cell_type": "code",
   "execution_count": null,
   "metadata": {},
   "outputs": [],
   "source": [
    "div_xgcm.isel(z_t=5, time=0).plot(robust=True, figsize=(10, 3))\n",
    "plt.title(\"xgcm divergence @ {:d}m\".format(int(div_xgcm.z_t.isel(z_t=5).values / 100)));"
   ]
  },
  {
   "cell_type": "markdown",
   "metadata": {},
   "source": [
    "This is the same except for boundary points because the pure xarray version assumes that the boundaries are periodic"
   ]
  },
  {
   "cell_type": "code",
   "execution_count": null,
   "metadata": {},
   "outputs": [],
   "source": [
    "xr.testing.assert_equal(\n",
    "    (\n",
    "        div_xgcm.rename(\n",
    "            {\"nlon_t\": \"nlon\", \"nlat_t\": \"nlat\"}\n",
    "        )  # rename dimensions back to nlon, nlat\n",
    "        .assign_coords(nlat=div_xr.nlat, nlon=div_xr.nlon)\n",
    "        .reset_coords(drop=True)\n",
    "        .isel(nlon=slice(1, -1), nlat=slice(1, -1))\n",
    "    ),\n",
    "    (\n",
    "        div_xr.assign_coords(nlat=div_xr.nlat, nlon=div_xr.nlon)\n",
    "        .reset_coords(drop=True)\n",
    "        .isel(nlon=slice(1, -1), nlat=slice(1, -1))\n",
    "    ),\n",
    ")"
   ]
  },
  {
   "cell_type": "markdown",
   "metadata": {},
   "source": [
    "#### xgcm with metrics\n",
    "\n",
    "If we create an ``xgcm.Grid`` object with the ``metrics`` term specified, the code can be substantially simplified.\n",
    "\n",
    "For the metric capabilities we will use later on we need to define metrics for pop (this could be moved to ``pop_tools`` for convenience so that ``grid`` is always created with ``metrics`` information). \n",
    "\n",
    "``metrics`` is a dictionary that maps axes names (one of ``X, Y, Z``) to distances along that axis"
   ]
  },
  {
   "cell_type": "code",
   "execution_count": null,
   "metadata": {},
   "outputs": [],
   "source": [
    "# pop_tools should handle this bit in the future\n",
    "metrics = {\n",
    "    (\"X\",): [\"DXU\", \"DXT\"],  # X distances\n",
    "    (\"Y\",): [\"DYU\", \"DYT\"],  # Y distances\n",
    "    (\"Z\",): [\"DZU\", \"DZT\"],  # Z distances\n",
    "    (\"X\", \"Y\"): [\"UAREA\", \"TAREA\"],  # areas, technically not needed\n",
    "}"
   ]
  },
  {
   "cell_type": "code",
   "execution_count": null,
   "metadata": {},
   "outputs": [],
   "source": [
    "# xgcm metrics\n",
    "gridm, xdsm = pop_tools.to_xgcm_grid_dataset(ds, periodic=False, metrics=metrics)"
   ]
  },
  {
   "cell_type": "markdown",
   "metadata": {},
   "source": [
    " Note that the code below does not explicitly use ``DZT`` or ``DZU``."
   ]
  },
  {
   "cell_type": "code",
   "execution_count": null,
   "metadata": {},
   "outputs": [],
   "source": [
    "def div_stencil(U, V, grid):  # Basic stencil operator for B-grid divergence\n",
    "    \"\"\"\n",
    "    stencil operator for divergence\n",
    "    using xgcm.metrics on pop\n",
    "    \"\"\"\n",
    "    U = grid.interp(U, axis=\"Y\", boundary=\"extend\")\n",
    "    V = grid.interp(V, axis=\"X\", boundary=\"extend\")\n",
    "    dUdx = grid.diff(U, axis=\"X\", boundary=\"extend\")\n",
    "    dVdy = grid.diff(V, axis=\"Y\", boundary=\"extend\")\n",
    "    div_4pt = dUdx + dVdy\n",
    "    return div_4pt\n",
    "\n",
    "\n",
    "def x_divh(U, V, grid, boundary=None):\n",
    "    \"\"\"\n",
    "    horizontal divergence\n",
    "    with xgcm.get_metrics\n",
    "    \"\"\"\n",
    "    dy = grid.get_metric(U, \"Y\")\n",
    "    dx = grid.get_metric(V, \"X\")\n",
    "    dz = grid.get_metric(U, \"Z\")\n",
    "    UT = U * dy * dz\n",
    "    VT = V * dx * dz\n",
    "    div = div_stencil(UT, VT, grid)\n",
    "    volume = grid.get_metric(div, \"XYZ\")\n",
    "    div = div / volume\n",
    "\n",
    "    return div\n",
    "\n",
    "\n",
    "div_xgcm_m = x_divh(xdsm.UVEL, xdsm.VVEL, gridm)\n",
    "div_xgcm_m"
   ]
  },
  {
   "cell_type": "markdown",
   "metadata": {},
   "source": [
    "This works as follows: ``grid.get_metric(U, \"Y\")`` tells ``xgcm`` to find a ``DY`` variable that is at U-points. \n",
    "\n",
    "``xgcm`` checks ``DYU`` and ``DYT`` (both specified as Y-distances in ``metrics``) and chooses ``DYU`` because ``DYU.dims = (nlat_u, nlon_u)`` matches ``U.dims = (\"time\", \"z_t\", \"nlat_u\", \"nlon_u\")``"
   ]
  },
  {
   "cell_type": "code",
   "execution_count": null,
   "metadata": {},
   "outputs": [],
   "source": [
    "print(xdsm.DYU.dims)\n",
    "print(xdsm.UVEL.dims)"
   ]
  },
  {
   "cell_type": "code",
   "execution_count": null,
   "metadata": {},
   "outputs": [],
   "source": [
    "xr.testing.assert_equal(\n",
    "    gridm.get_metric(xdsm.UVEL, \"Y\"),\n",
    "    xdsm.DYU.reset_coords(drop=True),\n",
    ")"
   ]
  },
  {
   "cell_type": "code",
   "execution_count": null,
   "metadata": {
    "scrolled": true
   },
   "outputs": [],
   "source": [
    "div_xgcm_m.isel(z_t=5, time=0).plot(robust=True, figsize=(10, 3))\n",
    "plt.title(\"xgcm_metric divergence @ {:d}m\".format(int(div_xgcm_m.z_t.isel(z_t=5).values / 100)));"
   ]
  },
  {
   "cell_type": "code",
   "execution_count": null,
   "metadata": {},
   "outputs": [],
   "source": [
    "fig, ax = plt.subplots(1, 3, figsize=(20, 3))\n",
    "div_xr.isel(z_t=5, time=0).plot(ax=ax[0], robust=True)\n",
    "ax[0].set_title(\"xarray\")\n",
    "div_xgcm.isel(z_t=5, time=0).plot(ax=ax[1], robust=True)\n",
    "ax[1].set_title(\"xgcm\")\n",
    "div_xgcm_m.isel(z_t=5, time=0).plot(ax=ax[2], robust=True)\n",
    "ax[2].set_title(\"xgcm metrics\");"
   ]
  },
  {
   "cell_type": "markdown",
   "metadata": {},
   "source": [
    "The two xgcm versions agree in the treatment of boundaries, whereas xarray assumes periodic boundaries so that the boundary values differ (the rest are the same):"
   ]
  },
  {
   "cell_type": "code",
   "execution_count": null,
   "metadata": {},
   "outputs": [],
   "source": [
    "fig, ax = plt.subplots(2, 1, figsize=(10, 10))\n",
    "div_xgcm.isel(nlat_t=0, z_t=0).plot(label=\"xgcm\", ax=ax[0])\n",
    "div_xgcm_m.isel(nlat_t=0, z_t=0).plot(ls=\"--\", label=\"metrics\", ax=ax[0])\n",
    "div_xr.isel(nlat=0, z_t=0).plot(label=\"xr\", ax=ax[0], ls=':')\n",
    "ax[0].legend()\n",
    "\n",
    "div_xgcm.isel(nlat_t=1, z_t=0).plot(label=\"xgcm\", ax=ax[1])\n",
    "div_xgcm_m.isel(nlat_t=1, z_t=0).plot(ls=\"--\", label=\"metrics\", ax=ax[1])\n",
    "div_xr.isel(nlat=1, z_t=0).plot(label=\"xr\", ax=ax[1], ls=':')\n",
    "ax[1].legend();"
   ]
  },
  {
   "cell_type": "code",
   "execution_count": null,
   "metadata": {},
   "outputs": [],
   "source": [
    "# the two xgcm versions are the same\n",
    "xr.testing.assert_equal(div_xgcm.drop([\"TLONG\", \"TLAT\"]), div_xgcm_m)"
   ]
  },
  {
   "cell_type": "markdown",
   "metadata": {},
   "source": [
    "### 2) Curl"
   ]
  },
  {
   "cell_type": "code",
   "execution_count": null,
   "metadata": {},
   "outputs": [],
   "source": [
    "# define different functions for curl\n",
    "def z_curl_xr(U, V, ds_grid):\n",
    "    \"\"\"\n",
    "    xr based\n",
    "    \"\"\"\n",
    "    vdy = 0.5 * V * ds.DYU\n",
    "    udx = -0.5 * U * ds.DXU\n",
    "    zcurl = div_4pt_xr(vdy, udx) / ds.TAREA\n",
    "    return zcurl\n",
    "\n",
    "\n",
    "def z_curl_xgcm(U, V, ds_grid):\n",
    "    \"\"\"\n",
    "    xgcm based\n",
    "    \"\"\"\n",
    "    WORKX = V * ds_grid.DYU\n",
    "    WORKY = -U * ds_grid.DXU\n",
    "    zcurl = div_4pt_xgcm(WORKX, WORKY) / ds_grid.TAREA\n",
    "    return zcurl\n",
    "\n",
    "\n",
    "def x_curlz(U, V, grid):\n",
    "    \"\"\"\n",
    "    xgcm based using metrics\n",
    "    \"\"\"\n",
    "    Udx = U * grid.get_metric(U, \"X\")\n",
    "    Vdy = V * grid.get_metric(V, \"Y\")\n",
    "    der = div_stencil(Vdy, -Udx, grid)\n",
    "    area = grid.get_metric(der, \"XY\")\n",
    "    curlz = der / area\n",
    "    return curlz"
   ]
  },
  {
   "cell_type": "code",
   "execution_count": null,
   "metadata": {},
   "outputs": [],
   "source": [
    "xr_zcurl = z_curl_xr(ds.UVEL, ds.VVEL, ds)\n",
    "xgcm_zcurl = z_curl_xgcm(ds_ren.UVEL, ds_ren.VVEL, ds_ren)\n",
    "xgcm_m_zcurl = x_curlz(ds_ren.UVEL, ds_ren.VVEL, gridm)"
   ]
  },
  {
   "cell_type": "code",
   "execution_count": null,
   "metadata": {},
   "outputs": [],
   "source": [
    "fig, ax = plt.subplots(1, 3, figsize=(20, 3))\n",
    "xr_zcurl.isel(z_t=5, time=0).plot(ax=ax[0], robust=True)\n",
    "ax[0].set_title(\"xarray\")\n",
    "xgcm_zcurl.isel(z_t=5, time=0).plot(ax=ax[1], robust=True)\n",
    "ax[1].set_title(\"xgcm\")\n",
    "xgcm_m_zcurl.isel(z_t=5, time=0).plot(ax=ax[2], robust=True)\n",
    "ax[2].set_title(\"xgcm metrics\");"
   ]
  },
  {
   "cell_type": "code",
   "execution_count": null,
   "metadata": {},
   "outputs": [],
   "source": [
    "# test xgcm versions:\n",
    "xr.testing.assert_equal(xgcm_zcurl.drop([\"TLONG\", \"TLAT\"]), xgcm_m_zcurl)"
   ]
  },
  {
   "cell_type": "code",
   "execution_count": null,
   "metadata": {},
   "outputs": [],
   "source": [
    "# test xarray vs xgcm version:\n",
    "xr.testing.assert_equal(\n",
    "    (\n",
    "        xr_zcurl.drop([\"TLONG\", \"TLAT\", \"ULONG\", \"ULAT\"])\n",
    "        .assign_coords(nlat=div_xr.nlat, nlon=div_xr.nlon)\n",
    "        .reset_coords(drop=True)\n",
    "        .isel(nlon=slice(1, -1), nlat=slice(1, -1))\n",
    "    ),\n",
    "    (\n",
    "        xgcm_zcurl.rename({\"nlon_t\": \"nlon\", \"nlat_t\": \"nlat\"})\n",
    "        .assign_coords(nlat=div_xr.nlat, nlon=div_xr.nlon)\n",
    "        .reset_coords(drop=True)\n",
    "        .isel(nlon=slice(1, -1), nlat=slice(1, -1))\n",
    "    ),\n",
    ")"
   ]
  },
  {
   "cell_type": "markdown",
   "metadata": {},
   "source": [
    "### 3) Gradient"
   ]
  },
  {
   "cell_type": "code",
   "execution_count": null,
   "metadata": {},
   "outputs": [],
   "source": [
    "# define different functions\n",
    "# xarray\n",
    "def grad_4pt_xr(F):\n",
    "    \"\"\"\n",
    "    gradient stencil using xarray\n",
    "    \"\"\"\n",
    "    WORK2 = F.roll(nlat=-1, roll_coords=False)  # F[i,j+1]\n",
    "    WORK1 = WORK2.roll(nlon=-1, roll_coords=False) - F  # F[i+1,j+1] - F[i,j]\n",
    "    WORK2 = WORK2 - F.roll(nlon=-1, roll_coords=False)  # F[i,j+1] - F[i+1,j]\n",
    "    GX = WORK1 - WORK2\n",
    "    GY = WORK1 + WORK2\n",
    "    return GX, GY\n",
    "\n",
    "\n",
    "def gradh_xr(F, DX, DY):\n",
    "    \"\"\"\n",
    "    gradient calculation\n",
    "    \"\"\"\n",
    "    GX, GY = grad_4pt_xr(F)\n",
    "    GX = 0.5 * GX / DX\n",
    "    GY = 0.5 * GY / DY\n",
    "    return GX, GY\n",
    "\n",
    "\n",
    "# xgcm\n",
    "def grad_4pt_xgcm(F):  # Basic stencil operator for B-grid gradient (e.g. for pressure)\n",
    "    \"\"\"\n",
    "    gradient stencil with xgcm\n",
    "    \"\"\"\n",
    "    F_at_lat_u = grid.interp(F, axis=\"Y\", boundary=\"extend\")  # 0.5*(F[i,j+1]+F[i,j])\n",
    "    dFdx = grid.diff(F_at_lat_u, axis=\"X\", boundary=\"extend\")\n",
    "    F_at_lon_u = grid.interp(F, axis=\"X\", boundary=\"extend\")  # 0.5*(F[i+1,j]+F[i,j])\n",
    "    dFdy = grid.diff(F_at_lon_u, axis=\"Y\", boundary=\"extend\")\n",
    "    return dFdx, dFdy\n",
    "\n",
    "\n",
    "def gradh_xgcm(F, ds_grid):  # Gradient of scalar. Result on U-grid\n",
    "    \"\"\"\n",
    "    gradient of scalar\n",
    "    \"\"\"\n",
    "    GX, GY = grad_4pt_xgcm(F)\n",
    "    GX = GX / ds_grid.DXU\n",
    "    GY = GY / ds_grid.DYU\n",
    "    return GX, GY\n",
    "\n",
    "\n",
    "# xgcm_metrics -> this becomes really easy!\n",
    "def x_gradh(F, grid):\n",
    "    \"\"\"\n",
    "    gradient of scalar xgcm_metrics\n",
    "    for pop\n",
    "    \"\"\"\n",
    "    F_yi = grid.interp(F, axis=\"Y\", boundary=\"extend\")  # 0.5*(F[i,j+1]+F[i,j])\n",
    "    F_xi = grid.interp(F, axis=\"X\", boundary=\"extend\")  # 0.5*(F[i+1,j]+F[i,j])\n",
    "    dFdx = grid.derivative(F_yi, axis=\"X\", boundary=\"extend\")\n",
    "    dFdy = grid.derivative(F_xi, axis=\"Y\", boundary=\"extend\")\n",
    "    return dFdx, dFdy"
   ]
  },
  {
   "cell_type": "code",
   "execution_count": null,
   "metadata": {},
   "outputs": [],
   "source": [
    "# test different versions\n",
    "GX_x, GY_x = gradh_xr(ds.TEMP, ds.DXT, ds.DYU)  # xarray version\n",
    "GX_xgcm, GY_xgcm = gradh_xgcm(ds_ren.TEMP, ds_ren)  # xgcm version\n",
    "GX_xgcm_m, GY_xgcm_m = x_gradh(ds_ren.TEMP, gridm)  # xgcm metrics version"
   ]
  },
  {
   "cell_type": "code",
   "execution_count": null,
   "metadata": {},
   "outputs": [],
   "source": [
    "fig, ax = plt.subplots(2, 3, figsize=(20, 6))\n",
    "GX_x.isel(z_t=5, time=0).plot(ax=ax[0, 0], robust=True)\n",
    "ax[0, 0].set_title(\"xarray\")\n",
    "GX_xgcm.isel(z_t=5, time=0).plot(ax=ax[0, 1], robust=True)\n",
    "ax[0, 1].set_title(\"xgcm\")\n",
    "GX_xgcm_m.isel(z_t=5, time=0).plot(ax=ax[0, 2], robust=True)\n",
    "ax[0, 2].set_title(\"xgcm metrics\")\n",
    "\n",
    "GY_x.isel(z_t=5, time=0).plot(ax=ax[1, 0], robust=True)\n",
    "ax[1, 0].set_title(\"\")\n",
    "GY_xgcm.isel(z_t=5, time=0).plot(ax=ax[1, 1], robust=True)\n",
    "ax[1, 1].set_title(\"\")\n",
    "GY_xgcm_m.isel(z_t=5, time=0).plot(ax=ax[1, 2], robust=True)\n",
    "ax[1, 2].set_title(\"\");"
   ]
  },
  {
   "cell_type": "code",
   "execution_count": null,
   "metadata": {},
   "outputs": [],
   "source": [
    "# testing xgcm version:\n",
    "xr.testing.assert_equal(GX_xgcm_m, GX_xgcm.drop([\"ULONG\", \"ULAT\"]))"
   ]
  },
  {
   "cell_type": "code",
   "execution_count": null,
   "metadata": {},
   "outputs": [],
   "source": [
    "# testing xarray version xgcm version:\n",
    "xr.testing.assert_allclose(\n",
    "    (\n",
    "        GX_x.drop([\"TLONG\", \"TLAT\", \"ULONG\", \"ULAT\"])\n",
    "        .assign_coords(nlat=div_xr.nlat, nlon=div_xr.nlon)\n",
    "        .reset_coords(drop=True)\n",
    "        .isel(nlon=slice(1, -1), nlat=slice(1, -1))\n",
    "    ),\n",
    "    (\n",
    "        GX_xgcm_m.rename({\"nlon_u\": \"nlon\", \"nlat_u\": \"nlat\"})\n",
    "        .assign_coords(nlat=div_xr.nlat, nlon=div_xr.nlon)\n",
    "        .reset_coords(drop=True)\n",
    "        .isel(nlon=slice(1, -1), nlat=slice(1, -1))\n",
    "    ),\n",
    ")"
   ]
  },
  {
   "cell_type": "code",
   "execution_count": null,
   "metadata": {},
   "outputs": [],
   "source": [
    "%load_ext watermark\n",
    "%watermark -d -iv -m -g"
   ]
  }
 ],
 "metadata": {
  "kernelspec": {
   "display_name": "Python 3",
   "language": "python",
   "name": "python3"
  },
  "language_info": {
   "codemirror_mode": {
    "name": "ipython",
    "version": 3
   },
   "file_extension": ".py",
   "mimetype": "text/x-python",
   "name": "python",
   "nbconvert_exporter": "python",
   "pygments_lexer": "ipython3",
   "version": "3.8.8"
  },
  "widgets": {
   "application/vnd.jupyter.widget-state+json": {
    "state": {},
    "version_major": 2,
    "version_minor": 0
   }
  }
 },
 "nbformat": 4,
 "nbformat_minor": 4
}
