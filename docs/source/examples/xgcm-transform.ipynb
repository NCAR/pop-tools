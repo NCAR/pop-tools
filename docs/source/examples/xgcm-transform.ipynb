{
 "cells": [
  {
   "cell_type": "markdown",
   "id": "ec5f388e-bbaf-4174-9b96-253e0b01517c",
   "metadata": {},
   "source": [
    "# Using `xgcm.transform` to interpolate to isopycnal space"
   ]
  },
  {
   "cell_type": "code",
   "execution_count": null,
   "id": "fae3a14b-39b8-4746-91d4-f2392aa94199",
   "metadata": {},
   "outputs": [],
   "source": [
    "%load_ext watermark\n",
    "\n",
    "import numpy as np\n",
    "import xarray as xr\n",
    "import xgcm\n",
    "\n",
    "import pop_tools\n",
    "\n",
    "%watermark -iv"
   ]
  },
  {
   "cell_type": "markdown",
   "id": "806bf32a-a0c5-4be3-9863-103f91b37c87",
   "metadata": {},
   "source": [
    "## Load data\n",
    "\n",
    "Read an existing sample  dataset for the tropical pacific. Unfortunately, this particular subset does not have `SALT`, so for demonstration purposes we set `SALT=35`."
   ]
  },
  {
   "cell_type": "code",
   "execution_count": null,
   "id": "b8b1ea07-db6b-4cff-921a-e2dadd69988c",
   "metadata": {},
   "outputs": [],
   "source": [
    "# open sample data\n",
    "filepath = pop_tools.DATASETS.fetch('Pac_POP0.1_JRA_IAF_1993-12-6-test.nc')\n",
    "ds = xr.open_dataset(filepath)\n",
    "\n",
    "# get DZU and DZT, needed for operations later on\n",
    "filepath_g = pop_tools.DATASETS.fetch(\"Pac_grid_pbc_1301x305x62.tx01_62l.2013-07-13.nc\")\n",
    "ds_g = xr.open_dataset(filepath_g)\n",
    "ds.update(ds_g[[\"DZU\", \"DZT\"]])\n",
    "\n",
    "# There is no salinity, so let's  create a fake SALT variable\n",
    "ds[\"SALT\"] = 35 * xr.ones_like(ds.TEMP)\n",
    "ds[\"rho\"] = pop_tools.eos(ds.SALT, ds.TEMP, depth=ds.z_t)\n",
    "ds"
   ]
  },
  {
   "cell_type": "markdown",
   "id": "319bacd0-70cd-4db0-b8b3-4d6a13b1fe4a",
   "metadata": {},
   "source": [
    "## Construct xgcm-compatible dataset and  xgcm grid object"
   ]
  },
  {
   "cell_type": "code",
   "execution_count": null,
   "id": "7c720875-04ae-4f72-854c-b07fc3cf0b53",
   "metadata": {},
   "outputs": [],
   "source": [
    "metrics = {\n",
    "    (\"X\",): [\"DXU\", \"DXT\"],  # X distances\n",
    "    (\"Y\",): [\"DYU\", \"DYT\"],  # Y distances\n",
    "    (\"Z\",): [\"DZU\", \"DZT\"],  # Z distances\n",
    "    (\"X\", \"Y\"): [\"UAREA\", \"TAREA\"],\n",
    "}\n",
    "\n",
    "# here we get the xgcm compatible dataset\n",
    "grid, xds = pop_tools.to_xgcm_grid_dataset(\n",
    "    ds,\n",
    "    periodic=False,\n",
    "    metrics=metrics,\n",
    "    boundary={\"X\": \"extend\", \"Y\": \"extend\", \"Z\": \"extend\"},\n",
    ")\n",
    "xds"
   ]
  },
  {
   "cell_type": "markdown",
   "id": "28ef5d32-3018-447e-bd4a-876930876e9a",
   "metadata": {},
   "source": [
    "## Regrid to density space using `grid.transform`\n",
    "\n",
    "See https://xgcm.readthedocs.io/en/latest/transform.html for more"
   ]
  },
  {
   "cell_type": "code",
   "execution_count": null,
   "id": "8791868d-bc2f-4c82-bdda-7fceed8020d9",
   "metadata": {},
   "outputs": [],
   "source": [
    "regridded = grid.transform(\n",
    "    ds.TEMP,\n",
    "    axis=\"Z\",\n",
    "    target=np.arange(24, 27, 0.5),\n",
    "    target_data=ds.rho - 1000,\n",
    "    method=\"linear\",\n",
    ")"
   ]
  },
  {
   "cell_type": "markdown",
   "id": "5cc5018f-bfac-4ff0-b776-9499af9e1c1f",
   "metadata": {},
   "source": [
    "## Visualize temperature on a single isopycnal surface"
   ]
  },
  {
   "cell_type": "code",
   "execution_count": null,
   "id": "5d14e949-3873-4d7a-b53e-1e8482fa349f",
   "metadata": {},
   "outputs": [],
   "source": [
    "regridded.isel(rho=3).plot(robust=True)"
   ]
  }
 ],
 "metadata": {
  "kernelspec": {
   "display_name": "Python 3 (ipykernel)",
   "language": "python",
   "name": "python3"
  },
  "language_info": {
   "codemirror_mode": {
    "name": "ipython",
    "version": 3
   },
   "file_extension": ".py",
   "mimetype": "text/x-python",
   "name": "python",
   "nbconvert_exporter": "python",
   "pygments_lexer": "ipython3",
   "version": "3.8.6"
  },
  "widgets": {
   "application/vnd.jupyter.widget-state+json": {
    "state": {},
    "version_major": 2,
    "version_minor": 0
   }
  }
 },
 "nbformat": 4,
 "nbformat_minor": 5
}
