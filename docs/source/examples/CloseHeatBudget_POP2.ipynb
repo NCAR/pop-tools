{
 "cells": [
  {
   "cell_type": "markdown",
   "metadata": {},
   "source": [
    "## Calculate heat budget\n",
    "Using xgcm with metric to demonstrate budget closure. \n",
    "\n",
    "This is an image of the POP output structure on the horizontal B-grid: \n",
    "\n",
    "<img src=\"POP_Grid.png\" alt=\"Drawing\" style=\"width: 800px;\"/>"
   ]
  },
  {
   "cell_type": "markdown",
   "metadata": {},
   "source": [
    "### Import packages and define functions"
   ]
  },
  {
   "cell_type": "code",
   "execution_count": 2,
   "metadata": {},
   "outputs": [],
   "source": [
    "%matplotlib inline\n",
    "\n",
    "import xarray as xr\n",
    "import numpy as np\n",
    "import pop_tools\n",
    "import matplotlib.pyplot as plt\n",
    "from tqdm import tqdm\n",
    "\n",
    "xr.set_options(display_style='html')\n",
    "\n",
    "def pop_find_lat_ind(loc, LATDAT):\n",
    "\treturn np.abs(LATDAT[:,0].values-loc).argmin()\n",
    "\n",
    "def pop_find_lon_ind(loc, LONDAT, direction='w'):\n",
    "\tif direction.lower() in ['east', 'e']:\n",
    "\t\tvalue = loc\n",
    "\telif direction.lower() in ['west','w']:\n",
    "\t\tvalue = 360 - loc\n",
    "\telse:\n",
    "\t\tprint('I do not know which direction.')\n",
    "\treturn np.nanargmin(np.abs(LONDAT[152,:].values-value))"
   ]
  },
  {
   "cell_type": "markdown",
   "metadata": {},
   "source": [
    "### Load Dataset"
   ]
  },
  {
   "cell_type": "code",
   "execution_count": null,
   "metadata": {},
   "outputs": [],
   "source": [
    "# open sample data\n",
    "filepath = pop_tools.DATASETS.fetch('Pac_POP0.1_JRA_IAF_1993-12-6-test.nc')\n",
    "ds = xr.open_dataset(filepath)\n",
    "\n",
    "# get DZU and DZT, needed for operations later on\n",
    "filepath_g = pop_tools.DATASETS.fetch('Pac_grid_pbc_1301x305x62.tx01_62l.2013-07-13.nc')\n",
    "ds_g = xr.open_dataset(filepath_g)\n",
    "\n",
    "ds[\"DZT\"] = ds_g.DZT\n",
    "ds[\"DZU\"] = ds_g.DZU"
   ]
  },
  {
   "cell_type": "code",
   "execution_count": 4,
   "metadata": {},
   "outputs": [],
   "source": [
    "# get lola inds from somewhere for indexing later on\n",
    "lola_inds = {}\n",
    "inds_lat = [-8,-5,-4,-3,-2,-1,0,1,2,3,4,5,8]\n",
    "for j in inds_lat:\n",
    "    if j < 0:\n",
    "        lola_inds['j_' + str(j)[1:] + 's'] = pop_find_lat_ind(j, ds.TLAT)\n",
    "    else:\n",
    "        lola_inds['j_' + str(j) + 'n'] = pop_find_lat_ind(j, ds.TLAT)\n",
    "        \n",
    "inds_lon = range(95,185,5)\n",
    "for i in inds_lon:\n",
    "    lola_inds['i_' + str(i) + '_w'] = pop_find_lon_ind(i, ds.TLONG)"
   ]
  },
  {
   "cell_type": "markdown",
   "metadata": {},
   "source": [
    "#### just making sure everything works"
   ]
  },
  {
   "cell_type": "code",
   "execution_count": 5,
   "metadata": {},
   "outputs": [
    {
     "data": {
      "text/plain": [
       "<matplotlib.collections.PathCollection at 0x2b0ad50b03d0>"
      ]
     },
     "execution_count": 5,
     "metadata": {},
     "output_type": "execute_result"
    },
    {
     "data": {
      "image/png": "[encoded data removed]",
      "text/plain": [
       "<Figure size 432x288 with 2 Axes>"
      ]
     },
     "metadata": {
      "needs_background": "light"
     },
     "output_type": "display_data"
    }
   ],
   "source": [
    "# just making sure everything works\n",
    "ds.TEMP.isel(z_t=0).mean(dim='time').plot(levels=np.arange(20,30.5,0.5), cmap='RdYlBu_r')\n",
    "plt.scatter(lola_inds['i_140_w'], lola_inds['j_0n'], marker='*')"
   ]
  },
  {
   "cell_type": "markdown",
   "metadata": {},
   "source": [
    "#### set up vertical thickness and volume for scaling"
   ]
  },
  {
   "cell_type": "code",
   "execution_count": 6,
   "metadata": {},
   "outputs": [
    {
     "name": "stderr",
     "output_type": "stream",
     "text": [
      "100%|██████████| 305/305 [00:01<00:00, 253.66it/s]\n"
     ]
    }
   ],
   "source": [
    "ds['DZT'] = ds_dzt.DZT\n",
    "ds['DZU'] = ds_dzu.DZU\n",
    "ds.DZT.attrs['long_name'] = 'Thickness of T cells'\n",
    "ds.DZT.attrs['units'] = 'centimeter'\n",
    "ds.DZT.attrs['grid_loc'] = '3111'\n",
    "ds.DZU.attrs['long_name'] = 'Thickness of U cells'\n",
    "ds.DZU.attrs['units'] = 'centimeter'\n",
    "ds.DZU.attrs['grid_loc'] = '3221'\n",
    "\n",
    "# make sure we have the cell volumne for calculations\n",
    "VOL = (ds.DZT * ds.DXT* ds.DYT).compute()\n",
    "KMT = ds.KMT.compute()\n",
    "\n",
    "for j in tqdm(range(len(KMT.nlat))):\n",
    "    for i in range(len(KMT.nlon)):\n",
    "        k = KMT.values[j,i].astype(int)\n",
    "        VOL.values[k:,j,i] = 0.\n",
    "\n",
    "ds['VOL']=VOL\n",
    "\n",
    "ds.VOL.attrs['long_name'] = 'volume of T cells'\n",
    "ds.VOL.attrs['units'] = 'centimeter^3'\n",
    "\n",
    "ds.VOL.attrs['grid_loc'] = '3111'"
   ]
  },
  {
   "cell_type": "code",
   "execution_count": 7,
   "metadata": {},
   "outputs": [],
   "source": [
    "# here we get the xgcm compatible dataset \n",
    "gridx, dsx = pop_tools.to_xgcm_grid_dataset(ds)\n",
    "\n",
    "for coord in ['nlat', 'nlon']:\n",
    "    if coord in dsx.coords:\n",
    "        dsx = dsx.drop_vars(coord)\n",
    "\n",
    "# this is necessary to make things multiply that otherwise would not        \n",
    "if 'z_w_top' and 'z_w' in dsx.dims:\n",
    "    dsx = dsx.drop('z_w_top').rename({'z_w': 'z_w_top'})\n",
    "    \n",
    "dsi = to_index(dsx)"
   ]
  },
  {
   "cell_type": "markdown",
   "metadata": {},
   "source": [
    "## using xgcm with metrics"
   ]
  },
  {
   "cell_type": "markdown",
   "metadata": {},
   "source": [
    "#### Set up dataset to gather budget terms"
   ]
  },
  {
   "cell_type": "code",
   "execution_count": 8,
   "metadata": {},
   "outputs": [],
   "source": [
    "dm = xr.Dataset()"
   ]
  },
  {
   "cell_type": "markdown",
   "metadata": {},
   "source": [
    "#### set grid and data set for xgcm with metrics"
   ]
  },
  {
   "cell_type": "code",
   "execution_count": 15,
   "metadata": {},
   "outputs": [],
   "source": [
    "metrics = {\n",
    "    (\"X\",): [\"DXU\", \"DXT\"],  # X distances\n",
    "    (\"Y\",): [\"DYU\", \"DYT\"],  # Y distances\n",
    "    (\"Z\",): [\"DZU\", \"DZT\"],  # Z distances\n",
    "    (\"X\", \"Y\"): [\"UAREA\", \"TAREA\"]}\n",
    "\n",
    "gridxgcm, dsxgcm = pop_tools.to_xgcm_grid_dataset(ds, periodic=False, metrics=metrics)"
   ]
  },
  {
   "cell_type": "markdown",
   "metadata": {},
   "source": [
    "#### 0) Tendency"
   ]
  },
  {
   "cell_type": "code",
   "execution_count": 16,
   "metadata": {},
   "outputs": [],
   "source": [
    "dm['TEND_TEMP'] = dsxgcm.TEND_TEMP"
   ]
  },
  {
   "cell_type": "markdown",
   "metadata": {},
   "source": [
    "#### i) Total heat advection"
   ]
  },
  {
   "cell_type": "code",
   "execution_count": 17,
   "metadata": {},
   "outputs": [],
   "source": [
    "dm['UET'] = -(gridxgcm.diff(dsxgcm.UET * dsxgcm.VOL.values, axis=\"X\", boundary=\"extend\")\n",
    "              /\n",
    "              dsxgcm.VOL)\n",
    "dm['VNT'] = -(gridxgcm.diff(dsxgcm.VNT * dsxgcm.VOL.values, axis=\"Y\", boundary=\"extend\")\n",
    "              /\n",
    "              dsxgcm.VOL)\n",
    "dm['WTT'] = (gridxgcm.diff(dsxgcm.WTT.fillna(0) * (dsxgcm.dz * dsxgcm.DXT * dsxgcm.DYT).values,\n",
    "                           axis=\"Z\", boundary=\"extend\")\n",
    "             /\n",
    "             dsxgcm.VOL)\n",
    "dm['TOT_ADV'] = dm['UET'] + dm['VNT'] + dm['WTT']"
   ]
  },
  {
   "cell_type": "markdown",
   "metadata": {},
   "source": [
    "#### ii) Heat flux due to vertical mixing:\n",
    "includes surface flux at the 0th layer"
   ]
  },
  {
   "cell_type": "code",
   "execution_count": 18,
   "metadata": {},
   "outputs": [],
   "source": [
    "dm['DIA_IMPVF_TEMP'] =  -(gridxgcm.diff(dsxgcm.DIA_IMPVF_TEMP * dsxgcm.TAREA, axis=\"Z\", boundary=\"extend\")\n",
    "                           /\n",
    "                           dsxgcm.VOL)\n",
    "dm['DIA_IMPVF_TEMP'] = dm['DIA_IMPVF_TEMP'].load()\n",
    "\n",
    "# set surface flux at 0th layer\n",
    "SRF_TEMP_FLUX = (dsx.SHF - dsx.SHF_QSW) * dsx.hflux_factor \n",
    "\n",
    "dm['DIA_IMPVF_TEMP'][:,0,:,:]=((SRF_TEMP_FLUX * dsxgcm.TAREA  \n",
    "                                -\n",
    "                                dsxgcm.DIA_IMPVF_TEMP.isel(z_w_bot=0) * dsxgcm.TAREA)\n",
    "                               /\n",
    "                               dsxgcm.VOL.values[0,:,:])\n",
    "\n",
    "dm['KPP_SRC_TMP'] = dsxgcm.KPP_SRC_TEMP\n",
    "dm['VDIF'] = dm['DIA_IMPVF_TEMP'] + dm['KPP_SRC_TMP']"
   ]
  },
  {
   "cell_type": "markdown",
   "metadata": {},
   "source": [
    "#### iii) Heat flux due to horizontal diffusion"
   ]
  },
  {
   "cell_type": "code",
   "execution_count": 19,
   "metadata": {},
   "outputs": [],
   "source": [
    "dm['HDIFE_TEMP'] = (gridxgcm.diff(dsxgcm.HDIFE_TEMP * dsxgcm.VOL.values, axis=\"X\", boundary=\"extend\")\n",
    "                    /\n",
    "                    dsxgcm.VOL)\n",
    "dm['HDIFN_TEMP'] = (gridxgcm.diff(dsxgcm.HDIFN_TEMP * dsxgcm.VOL.values, axis=\"Y\", boundary=\"extend\")\n",
    "                    /\n",
    "                    dsxgcm.VOL)\n",
    "dm['HDIF'] = dm['HDIFE_TEMP'] + dm['HDIFN_TEMP']"
   ]
  },
  {
   "cell_type": "markdown",
   "metadata": {},
   "source": [
    "#### iv) Solar Penetration"
   ]
  },
  {
   "cell_type": "code",
   "execution_count": 20,
   "metadata": {},
   "outputs": [],
   "source": [
    "dm['QSW_3D'] = (-gridxgcm.diff((dsxgcm.QSW_3D * dsxgcm.hflux_factor), axis=\"Z\", boundary=\"extend\")\n",
    "                /\n",
    "                dsxgcm.DZT)"
   ]
  },
  {
   "cell_type": "markdown",
   "metadata": {},
   "source": [
    "#### plot to make sure it closes"
   ]
  },
  {
   "cell_type": "code",
   "execution_count": 21,
   "metadata": {},
   "outputs": [
    {
     "name": "stdout",
     "output_type": "stream",
     "text": [
      "CPU times: user 3.32 s, sys: 5.01 s, total: 8.33 s\n",
      "Wall time: 24.6 s\n"
     ]
    },
    {
     "data": {
      "text/plain": [
       "<matplotlib.legend.Legend at 0x2b0ad7fdda10>"
      ]
     },
     "execution_count": 21,
     "metadata": {},
     "output_type": "execute_result"
    },
    {
     "data": {
      "image/png": "[encoded data removed]",
      "text/plain": [
       "<Figure size 720x216 with 2 Axes>"
      ]
     },
     "metadata": {
      "needs_background": "light"
     },
     "output_type": "display_data"
    }
   ],
   "source": [
    "%%time\n",
    "\n",
    "fig, ax = plt.subplots(1,2,figsize=(10,3), sharey=True)\n",
    "\n",
    "# plot individual components\n",
    "dm.VDIF.isel(nlon_t=lola_inds['i_140_w'], nlat_t=lola_inds['j_0n'], time=0).plot(y='z_t', ylim=(300e2,0),\n",
    "                                                                                 label='VDIF', ax=ax[0])\n",
    "dm.HDIF.isel(nlon_t=lola_inds['i_140_w'], nlat_t=lola_inds['j_0n'], time=0).plot(y='z_t', ylim=(300e2,0),\n",
    "                                                                                 label='HDIF', ax=ax[0])\n",
    "dm.QSW_3D.isel(nlon_t=lola_inds['i_140_w'], nlat_t=lola_inds['j_0n'], time=0).plot(y='z_t', ylim=(300e2,0),\n",
    "                                                                                 label='QSW_3D', ax=ax[0])\n",
    "dm.TOT_ADV.isel(nlon_t=lola_inds['i_140_w'], nlat_t=lola_inds['j_0n'], time=0).plot(y='z_t', ylim=(300e2,0),\n",
    "                                                                                 label='DIV', ax=ax[0])\n",
    "\n",
    "# plot sum \n",
    "((dm.QSW_3D + dm.HDIF + dm.VDIF + dm.TOT_ADV)\n",
    " .isel(nlon_t=lola_inds['i_140_w'], nlat_t=lola_inds['j_0n'], time=0)).plot(y='z_t', ylim=(300e2,0),\n",
    "                                                                            label='SUM', ls='--', ax=ax[0])\n",
    "# plot tendency\n",
    "dm.TEND_TEMP.isel(nlon_t=lola_inds['i_140_w'], nlat_t=lola_inds['j_0n'], time=0).plot(y='z_t', ylim=(300e2,0),\n",
    "                                                                                 label='TEND_TEMP', ax=ax[0])\n",
    "\n",
    "ax[0].legend()\n",
    "\n",
    "# plot sum \n",
    "((dm.QSW_3D + dm.HDIF + dm.VDIF + dm.TOT_ADV)\n",
    " .isel(nlon_t=lola_inds['i_140_w'], nlat_t=lola_inds['j_0n'], time=0)).plot(y='z_t', ylim=(300e2,0),\n",
    "                                                                            label='SUM', ls='--', ax=ax[1])\n",
    "# plot tendency\n",
    "dm.TEND_TEMP.isel(nlon_t=lola_inds['i_140_w'], nlat_t=lola_inds['j_0n'], time=0).plot(y='z_t', ylim=(300e2,0),\n",
    "                                                                                 label='TEND_TEMP', ax=ax[1])\n",
    "\n",
    "ax[1].legend()"
   ]
  },
  {
   "cell_type": "code",
   "execution_count": 25,
   "metadata": {},
   "outputs": [
    {
     "name": "stdout",
     "output_type": "stream",
     "text": [
      "Compiler    : GCC 9.3.0\n",
      "OS          : Linux\n",
      "Release     : 3.10.0-1127.18.2.el7.x86_64\n",
      "Machine     : x86_64\n",
      "Processor   : x86_64\n",
      "CPU cores   : 72\n",
      "Architecture: 64bit\n",
      "\n",
      "Hostname: casper12\n",
      "\n",
      "Git hash: HEAD\n",
      "\n",
      "ncar_jobqueue: 2020.3.4\n",
      "dask         : 2021.2.0\n",
      "numpy        : 1.19.5\n",
      "xarray       : 0.17.0\n",
      "distributed  : 2021.2.0\n",
      "pop_tools    : 2020.9.14\n",
      "matplotlib   : 3.2.2\n",
      "\n",
      "Above are the versions of the packages this works with.\n"
     ]
    }
   ],
   "source": [
    "# You may need to install watermark (conda install -c conda-forge watermark)\n",
    "%load_ext watermark\n",
    "%watermark -d -iv -m -g -h\n",
    "print('Above are the versions of the packages this works with.')"
   ]
  }
 ],
 "metadata": {
  "kernelspec": {
   "display_name": "Python 3",
   "language": "python",
   "name": "python3"
  },
  "language_info": {
   "codemirror_mode": {
    "name": "ipython",
    "version": 3
   },
   "file_extension": ".py",
   "mimetype": "text/x-python",
   "name": "python",
   "nbconvert_exporter": "python",
   "pygments_lexer": "ipython3",
   "version": "3.7.10"
  }
 },
 "nbformat": 4,
 "nbformat_minor": 4
}
