{
 "cells": [
  {
   "cell_type": "markdown",
   "metadata": {},
   "source": [
    "# Lateral fill concept\n",
    "\n",
    "When regidding datasets for initial conditions, it is necessary to ensure that all model points have data. In many cases, differences between land-sea masks yield regions along the margins that require filling. The `pop_tools.lateral_fill_np_array` routine applies an iterative filling procedure to accomplish this. This is illustrated here."
   ]
  },
  {
   "cell_type": "code",
   "execution_count": null,
   "metadata": {},
   "outputs": [],
   "source": [
    "%matplotlib inline\n",
    "\n",
    "import matplotlib.pyplot as plt\n",
    "import numpy as np\n",
    "import xarray as xr\n",
    "\n",
    "import pop_tools\n",
    "\n",
    "xr.set_options(display_style=\"html\")  # fancy HTML repr"
   ]
  },
  {
   "cell_type": "markdown",
   "metadata": {},
   "source": [
    "## Generate some psuedo-data with coastline"
   ]
  },
  {
   "cell_type": "code",
   "execution_count": null,
   "metadata": {},
   "outputs": [],
   "source": [
    "dx, dy = 0.05, 0.05\n",
    "\n",
    "y, x = np.mgrid[slice(1 - dy, 3 + dy, dy), slice(1 - dx, 5 + dx, dx)]\n",
    "\n",
    "z_orig = np.sin(x) ** 10 + np.cos(10 + y * x) * np.cos(x)\n",
    "\n",
    "valid_points = np.ones(z_orig.shape, dtype=np.bool)\n",
    "valid_points = np.where(y < 0.5 * np.sin(5 * x) + 1.5, False, valid_points)\n",
    "\n",
    "z_orig = np.where(~valid_points, np.nan, z_orig)\n",
    "z_orig[0, :] = np.nan\n",
    "\n",
    "\n",
    "cb = plt.pcolormesh(z_orig, vmin=-1, vmax=2.0)\n",
    "h = plt.colorbar(cb)"
   ]
  },
  {
   "cell_type": "markdown",
   "metadata": {},
   "source": [
    "Add missing values in one embayment and a random block in the top of the domain. Put some \"blobs\" of elevated values to show periodicity."
   ]
  },
  {
   "cell_type": "code",
   "execution_count": null,
   "metadata": {},
   "outputs": [],
   "source": [
    "z_miss = z_orig.copy()\n",
    "\n",
    "z_miss[:20, 62:] = np.nan\n",
    "z_miss[35:, 55:70] = np.nan\n",
    "\n",
    "z_miss[15:18, 0:2] = 10.0\n",
    "\n",
    "z_miss[-2:, 12:20] = 10.0\n",
    "\n",
    "cb = plt.pcolormesh(z_miss, vmin=-1, vmax=2.0)\n",
    "h = plt.colorbar(cb)"
   ]
  },
  {
   "cell_type": "markdown",
   "metadata": {},
   "source": [
    "## Perform lateral fill\n"
   ]
  },
  {
   "cell_type": "code",
   "execution_count": null,
   "metadata": {},
   "outputs": [],
   "source": [
    "%%time\n",
    "\n",
    "z_fill = pop_tools.lateral_fill_np_array(z_miss, valid_points, ltripole=False)\n",
    "\n",
    "plt.figure()\n",
    "cb = plt.pcolormesh(z_fill, vmin=-1, vmax=2.0)\n",
    "h = plt.colorbar(cb)"
   ]
  },
  {
   "cell_type": "markdown",
   "metadata": {},
   "source": [
    "Setting `ltripole = True` makes the domain periodic across the top boundary."
   ]
  },
  {
   "cell_type": "code",
   "execution_count": null,
   "metadata": {},
   "outputs": [],
   "source": [
    "%%time\n",
    "z_fill = pop_tools.lateral_fill_np_array(z_miss, valid_points, ltripole=True)\n",
    "\n",
    "plt.figure()\n",
    "cb = plt.pcolormesh(z_fill, vmin=-1, vmax=2.0)\n",
    "h = plt.colorbar(cb)"
   ]
  },
  {
   "cell_type": "code",
   "execution_count": null,
   "metadata": {},
   "outputs": [],
   "source": [
    "%load_ext watermark\n",
    "%watermark -d -iv -m -g -h"
   ]
  }
 ],
 "metadata": {
  "kernelspec": {
   "display_name": "Python 3",
   "language": "python",
   "name": "python3"
  },
  "language_info": {
   "codemirror_mode": {
    "name": "ipython",
    "version": 3
   },
   "file_extension": ".py",
   "mimetype": "text/x-python",
   "name": "python",
   "nbconvert_exporter": "python",
   "pygments_lexer": "ipython3",
   "version": "3.7.6"
  }
 },
 "nbformat": 4,
 "nbformat_minor": 4
}
